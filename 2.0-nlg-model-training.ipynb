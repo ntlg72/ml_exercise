{
 "cells": [
  {
   "cell_type": "markdown",
   "id": "dfba75a5",
   "metadata": {},
   "source": [
    "# Predicting Product Condition: New vs Used\n",
    "\n",
    "----------------------------------------------------\n",
    "by Natalia López Gallego\n",
    "\n",
    "This notebook performs trains a model to predict whether a product is new or used based on various seller and location features."
   ]
  },
  {
   "cell_type": "code",
   "execution_count": null,
   "id": "5f88bf9b",
   "metadata": {},
   "outputs": [],
   "source": [
    "\n",
    "import pandas as pd\n",
    "import numpy as np\n",
    "import matplotlib.pyplot as plt\n",
    "import seaborn as sns\n",
    "\n",
    "from sklearn.model_selection import train_test_split\n",
    "from sklearn.ensemble import RandomForestClassifier\n",
    "from sklearn.metrics import accuracy_score, classification_report, confusion_matrix\n"
   ]
  },
  {
   "cell_type": "code",
   "execution_count": null,
   "id": "51e35190",
   "metadata": {},
   "outputs": [],
   "source": [
    "\n",
    "# Load dataset\n",
    "df = pd.read_csv('products.csv')\n",
    "df.head()\n"
   ]
  },
  {
   "cell_type": "code",
   "execution_count": null,
   "id": "f3bffbbd",
   "metadata": {},
   "outputs": [],
   "source": [
    "\n",
    "# Overview of the data\n",
    "df.info()\n",
    "df.describe(include='object')\n"
   ]
  },
  {
   "cell_type": "code",
   "execution_count": null,
   "id": "6b479d07",
   "metadata": {},
   "outputs": [],
   "source": [
    "\n",
    "# Clean warranty\n",
    "df['warranty'] = df['warranty'].fillna('no_info')\n",
    "df['warranty'] = df['warranty'].apply(lambda x: 1 if str(x).lower() in ['yes', 'true'] else 0)\n",
    "\n",
    "# Convert coordinates\n",
    "df['seller_address_latitude'] = pd.to_numeric(df['seller_address_latitude'], errors='coerce')\n",
    "df['seller_address_longitude'] = pd.to_numeric(df['seller_address_longitude'], errors='coerce')\n"
   ]
  },
  {
   "cell_type": "code",
   "execution_count": null,
   "id": "98460418",
   "metadata": {},
   "outputs": [],
   "source": [
    "\n",
    "drop_cols = [\n",
    "    'seller_address_comment', 'seller_address_address_line',\n",
    "    'seller_address_zip_code', 'seller_address_id', 'seller_address_city_id',\n",
    "    'seller_address_state_id', 'seller_address_country_id',\n",
    "    'seller_address_search_location_neighborhood_id',\n",
    "    'seller_address_search_location_city_id',\n",
    "    'seller_address_search_location_state_id'\n",
    "]\n",
    "df.drop(columns=drop_cols, inplace=True)\n"
   ]
  },
  {
   "cell_type": "code",
   "execution_count": null,
   "id": "3427efba",
   "metadata": {},
   "outputs": [],
   "source": [
    "\n",
    "# Check correlations\n",
    "plt.figure(figsize=(10, 6))\n",
    "sns.heatmap(df.corr(numeric_only=True), annot=True, fmt=\".2f\", cmap=\"coolwarm\")\n",
    "plt.title(\"Correlation Matrix\")\n",
    "plt.show()\n"
   ]
  },
  {
   "cell_type": "code",
   "execution_count": null,
   "id": "4c3c77d5",
   "metadata": {},
   "outputs": [],
   "source": [
    "\n",
    "categorical_cols = [\n",
    "    'seller_address_city_name', 'seller_address_state_name',\n",
    "    'seller_address_country_name',\n",
    "    'seller_address_search_location_neighborhood_name',\n",
    "    'seller_address_search_location_city_name',\n",
    "    'seller_address_search_location_state_name',\n",
    "    'sub_status'\n",
    "]\n",
    "\n",
    "df = pd.get_dummies(df, columns=categorical_cols, drop_first=True)\n"
   ]
  },
  {
   "cell_type": "code",
   "execution_count": null,
   "id": "67f5eb40",
   "metadata": {},
   "outputs": [],
   "source": [
    "\n",
    "# Define X and y\n",
    "X = df.drop(columns=['condition'])\n",
    "y = df['condition']\n",
    "\n",
    "# Split data\n",
    "X_train, X_test, y_train, y_test = train_test_split(X, y, test_size=0.2, random_state=42)\n",
    "\n",
    "# Train model\n",
    "clf = RandomForestClassifier(random_state=42)\n",
    "clf.fit(X_train, y_train)\n",
    "\n",
    "# Predict and evaluate\n",
    "y_pred = clf.predict(X_test)\n",
    "print(\"Accuracy:\", accuracy_score(y_test, y_pred))\n",
    "print(\"Confusion Matrix:\\n\", confusion_matrix(y_test, y_pred))\n",
    "print(\"Classification Report:\\n\", classification_report(y_test, y_pred))\n"
   ]
  }
 ],
 "metadata": {
  "language_info": {
   "name": "python"
  }
 },
 "nbformat": 4,
 "nbformat_minor": 5
}
