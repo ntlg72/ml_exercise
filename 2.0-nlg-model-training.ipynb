{
 "cells": [
  {
   "cell_type": "markdown",
   "id": "dfba75a5",
   "metadata": {},
   "source": [
    "# Predicting Product Condition: New vs Used\n",
    "\n",
    "----------------------------------------------------\n",
    "by Natalia López Gallego\n",
    "\n",
    "This notebook performs trains a model to predict whether a product is new or used based on various seller and location features."
   ]
  },
  {
   "cell_type": "code",
   "execution_count": 3,
   "id": "5f88bf9b",
   "metadata": {},
   "outputs": [],
   "source": [
    "import pandas as pd\n",
    "from sklearn.model_selection import train_test_split\n",
    "from sklearn.linear_model import LogisticRegression\n",
    "from sklearn.ensemble import RandomForestClassifier\n",
    "from sklearn.svm import SVC\n",
    "from sklearn.metrics import classification_report, accuracy_score, roc_auc_score\n",
    "from xgboost import XGBClassifier\n"
   ]
  },
  {
   "cell_type": "code",
   "execution_count": 1,
   "id": "51e35190",
   "metadata": {},
   "outputs": [
    {
     "ename": "NameError",
     "evalue": "name 'pd' is not defined",
     "output_type": "error",
     "traceback": [
      "\u001b[31m---------------------------------------------------------------------------\u001b[39m",
      "\u001b[31mNameError\u001b[39m                                 Traceback (most recent call last)",
      "\u001b[36mCell\u001b[39m\u001b[36m \u001b[39m\u001b[32mIn[1]\u001b[39m\u001b[32m, line 2\u001b[39m\n\u001b[32m      1\u001b[39m \u001b[38;5;66;03m# Load dataset\u001b[39;00m\n\u001b[32m----> \u001b[39m\u001b[32m2\u001b[39m df = \u001b[43mpd\u001b[49m.read_csv(\u001b[33m'\u001b[39m\u001b[33mdf_cleaned.csv\u001b[39m\u001b[33m'\u001b[39m)\n\u001b[32m      3\u001b[39m df.head()\n",
      "\u001b[31mNameError\u001b[39m: name 'pd' is not defined"
     ]
    }
   ],
   "source": [
    "# Load dataset\n",
    "df = pd.read_csv('df_cleaned.csv')\n",
    "df.head()"
   ]
  },
  {
   "cell_type": "code",
   "execution_count": 5,
   "id": "f3bffbbd",
   "metadata": {},
   "outputs": [
    {
     "name": "stdout",
     "output_type": "stream",
     "text": [
      "<class 'pandas.core.frame.DataFrame'>\n",
      "RangeIndex: 100000 entries, 0 to 99999\n",
      "Data columns (total 19 columns):\n",
      " #   Column                   Non-Null Count   Dtype  \n",
      "---  ------                   --------------   -----  \n",
      " 0   condition                100000 non-null  int64  \n",
      " 1   status                   100000 non-null  object \n",
      " 2   price                    100000 non-null  float64\n",
      " 3   buying_mode              100000 non-null  object \n",
      " 4   available_quantity       100000 non-null  int64  \n",
      " 5   sold_quantity            100000 non-null  int64  \n",
      " 6   accepts_mercadopago      100000 non-null  bool   \n",
      " 7   automatic_relist         100000 non-null  bool   \n",
      " 8   shipping_mode            100000 non-null  object \n",
      " 9   address_state_name       100000 non-null  object \n",
      " 10  tags                     75090 non-null   object \n",
      " 11  sub_status               986 non-null     object \n",
      " 12  title_length             100000 non-null  int64  \n",
      " 13  address_city_name_freq   100000 non-null  int64  \n",
      " 14  year_created             100000 non-null  int64  \n",
      " 15  month_created            100000 non-null  int64  \n",
      " 16  days_since_created       100000 non-null  int64  \n",
      " 17  listing_duration         100000 non-null  int64  \n",
      " 18  days_since_last_updated  100000 non-null  int64  \n",
      "dtypes: bool(2), float64(1), int64(10), object(6)\n",
      "memory usage: 13.2+ MB\n"
     ]
    },
    {
     "data": {
      "text/html": [
       "<div>\n",
       "<style scoped>\n",
       "    .dataframe tbody tr th:only-of-type {\n",
       "        vertical-align: middle;\n",
       "    }\n",
       "\n",
       "    .dataframe tbody tr th {\n",
       "        vertical-align: top;\n",
       "    }\n",
       "\n",
       "    .dataframe thead th {\n",
       "        text-align: right;\n",
       "    }\n",
       "</style>\n",
       "<table border=\"1\" class=\"dataframe\">\n",
       "  <thead>\n",
       "    <tr style=\"text-align: right;\">\n",
       "      <th></th>\n",
       "      <th>status</th>\n",
       "      <th>buying_mode</th>\n",
       "      <th>shipping_mode</th>\n",
       "      <th>address_state_name</th>\n",
       "      <th>tags</th>\n",
       "      <th>sub_status</th>\n",
       "    </tr>\n",
       "  </thead>\n",
       "  <tbody>\n",
       "    <tr>\n",
       "      <th>count</th>\n",
       "      <td>100000</td>\n",
       "      <td>100000</td>\n",
       "      <td>100000</td>\n",
       "      <td>100000</td>\n",
       "      <td>75090</td>\n",
       "      <td>986</td>\n",
       "    </tr>\n",
       "    <tr>\n",
       "      <th>unique</th>\n",
       "      <td>4</td>\n",
       "      <td>3</td>\n",
       "      <td>4</td>\n",
       "      <td>24</td>\n",
       "      <td>7</td>\n",
       "      <td>3</td>\n",
       "    </tr>\n",
       "    <tr>\n",
       "      <th>top</th>\n",
       "      <td>active</td>\n",
       "      <td>buy_it_now</td>\n",
       "      <td>me2</td>\n",
       "      <td>Capital Federal</td>\n",
       "      <td>dragged_bids_and_visits</td>\n",
       "      <td>suspended</td>\n",
       "    </tr>\n",
       "    <tr>\n",
       "      <th>freq</th>\n",
       "      <td>95675</td>\n",
       "      <td>97001</td>\n",
       "      <td>51255</td>\n",
       "      <td>57857</td>\n",
       "      <td>72551</td>\n",
       "      <td>966</td>\n",
       "    </tr>\n",
       "  </tbody>\n",
       "</table>\n",
       "</div>"
      ],
      "text/plain": [
       "        status buying_mode shipping_mode address_state_name  \\\n",
       "count   100000      100000        100000             100000   \n",
       "unique       4           3             4                 24   \n",
       "top     active  buy_it_now           me2    Capital Federal   \n",
       "freq     95675       97001         51255              57857   \n",
       "\n",
       "                           tags sub_status  \n",
       "count                     75090        986  \n",
       "unique                        7          3  \n",
       "top     dragged_bids_and_visits  suspended  \n",
       "freq                      72551        966  "
      ]
     },
     "execution_count": 5,
     "metadata": {},
     "output_type": "execute_result"
    }
   ],
   "source": [
    "# Overview of the data\n",
    "df.info()\n",
    "df.describe(include='object')\n"
   ]
  },
  {
   "cell_type": "code",
   "execution_count": 9,
   "id": "bbc5adf2",
   "metadata": {},
   "outputs": [],
   "source": [
    "# 1. Splitting the data into training and testing sets\n",
    "X = df.drop(columns=['condition']) \n",
    "y = df['condition']  # Replace with your target column\n",
    "\n",
    "X_encoded = pd.get_dummies(X, drop_first=True)  # Convert all string columns\n",
    "\n",
    "# Train/test split\n",
    "X_train, X_test, y_train, y_test = train_test_split(X_encoded, y, test_size=0.2, random_state=42)\n"
   ]
  },
  {
   "cell_type": "code",
   "execution_count": null,
   "id": "28f37610",
   "metadata": {},
   "outputs": [
    {
     "name": "stderr",
     "output_type": "stream",
     "text": [
      "c:\\Users\\ntlg2\\Documents\\ml_exercise\\venv\\Lib\\site-packages\\sklearn\\linear_model\\_logistic.py:465: ConvergenceWarning: lbfgs failed to converge (status=1):\n",
      "STOP: TOTAL NO. OF ITERATIONS REACHED LIMIT.\n",
      "\n",
      "Increase the number of iterations (max_iter) or scale the data as shown in:\n",
      "    https://scikit-learn.org/stable/modules/preprocessing.html\n",
      "Please also refer to the documentation for alternative solver options:\n",
      "    https://scikit-learn.org/stable/modules/linear_model.html#logistic-regression\n",
      "  n_iter_i = _check_optimize_result(\n"
     ]
    }
   ],
   "source": [
    "\n",
    "# 2. Train multiple classification models\n",
    "\n",
    "models = {\n",
    "    'Logistic Regression': LogisticRegression(),\n",
    "    'Random Forest': RandomForestClassifier(),\n",
    "    'SVM': SVC(probability=True), \n",
    "    'XGBoost': XGBClassifier()\n",
    "}\n",
    "\n",
    "results = {}\n",
    "\n",
    "for model_name, model in models.items():\n",
    "  \n",
    "    model.fit(X_train, y_train)\n",
    "    \n",
    "    # Predictions\n",
    "    y_pred = model.predict(X_test)\n",
    "    y_pred_prob = model.predict_proba(X_test)[:, 1] \n",
    "    # Metrics\n",
    "    accuracy = accuracy_score(y_test, y_pred)\n",
    "    f1_score = classification_report(y_test, y_pred, output_dict=True)['weighted avg']['f1-score']\n",
    "    roc_auc = roc_auc_score(y_test, y_pred_prob) if len(y_pred_prob.shape) == 1 else 'N/A'  \n",
    "    # Results\n",
    "    results[model_name] = {\n",
    "        'Accuracy': accuracy,\n",
    "        'F1-Score': f1_score,\n",
    "        'ROC-AUC': roc_auc\n",
    "    }"
   ]
  },
  {
   "cell_type": "code",
   "execution_count": null,
   "id": "55614a6f",
   "metadata": {},
   "outputs": [],
   "source": [
    "# 3. Printing the results\n",
    "results_df = pd.DataFrame(results).T\n",
    "print(results_df)"
   ]
  },
  {
   "cell_type": "code",
   "execution_count": null,
   "id": "0d31f0e1",
   "metadata": {},
   "outputs": [],
   "source": [
    "# 4. Saving the  DataFrames\n",
    "# Saving the training and testing data, and predictions\n",
    "# Crear un DataFrame de los resultados\n",
    "\n",
    "X_train.to_csv('X_train.csv', index=False)\n",
    "X_test.to_csv('X_test.csv', index=False)\n",
    "y_test.to_csv('y_test.csv', index=False)"
   ]
  }
 ],
 "metadata": {
  "kernelspec": {
   "display_name": "venv",
   "language": "python",
   "name": "python3"
  },
  "language_info": {
   "codemirror_mode": {
    "name": "ipython",
    "version": 3
   },
   "file_extension": ".py",
   "mimetype": "text/x-python",
   "name": "python",
   "nbconvert_exporter": "python",
   "pygments_lexer": "ipython3",
   "version": "3.12.10"
  }
 },
 "nbformat": 4,
 "nbformat_minor": 5
}
